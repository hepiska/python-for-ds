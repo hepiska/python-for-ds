{
 "cells": [
  {
   "cell_type": "code",
   "execution_count": 1,
   "metadata": {},
   "outputs": [
    {
     "name": "stdout",
     "output_type": "stream",
     "text": [
      "masukan nilai10\n"
     ]
    }
   ],
   "source": [
    "  nilaiStr = input(\"masukan nilai\")"
   ]
  },
  {
   "cell_type": "code",
   "execution_count": 2,
   "metadata": {},
   "outputs": [
    {
     "name": "stdout",
     "output_type": "stream",
     "text": [
      "masukan nilai10\n"
     ]
    }
   ],
   "source": [
    "nilaiStr = \"\"\n",
    "nilaiStr = input(\"masukan nilai\")"
   ]
  },
  {
   "cell_type": "code",
   "execution_count": 10,
   "metadata": {},
   "outputs": [
    {
     "name": "stdout",
     "output_type": "stream",
     "text": [
      "masukan nilai1\n",
      "E\n",
      "masukan nilai2\n",
      "E\n",
      "masukan nilai3\n",
      "E\n",
      "masukan nilai4\n",
      "E\n",
      "masukan nilaie\n",
      "selesai, terima kasih\n"
     ]
    }
   ],
   "source": [
    "nilaiStr = \"\"\n",
    "while True:\n",
    "    nilaiStr = input(\"masukan nilai\")\n",
    "    if not nilaiStr.isnumeric(): break;\n",
    "    \n",
    "    nilai = int(nilaiStr)\n",
    "    if nilai > 90 :\n",
    "        print(\"A\")\n",
    "    elif nilai <= 90 and nilai > 70:\n",
    "        print(\"B\")\n",
    "    else:\n",
    "        print(\"E\")\n",
    "\n",
    "print(\"selesai, terima kasih\")"
   ]
  },
  {
   "cell_type": "code",
   "execution_count": 5,
   "metadata": {},
   "outputs": [
    {
     "ename": "ValueError",
     "evalue": "invalid literal for int() with base 10: 'a'",
     "output_type": "error",
     "traceback": [
      "\u001b[0;31m---------------------------------------------------------------------------\u001b[0m",
      "\u001b[0;31mValueError\u001b[0m                                Traceback (most recent call last)",
      "\u001b[0;32m<ipython-input-5-d9136db7b558>\u001b[0m in \u001b[0;36m<module>\u001b[0;34m\u001b[0m\n\u001b[0;32m----> 1\u001b[0;31m \u001b[0mint\u001b[0m\u001b[0;34m(\u001b[0m\u001b[0;34m\"a\"\u001b[0m\u001b[0;34m)\u001b[0m\u001b[0;34m\u001b[0m\u001b[0;34m\u001b[0m\u001b[0m\n\u001b[0m",
      "\u001b[0;31mValueError\u001b[0m: invalid literal for int() with base 10: 'a'"
     ]
    }
   ],
   "source": [
    "int(\"a\")"
   ]
  },
  {
   "cell_type": "code",
   "execution_count": 11,
   "metadata": {},
   "outputs": [],
   "source": [
    "# masukan nomor program akan menambahkan semua bilangan genap diantra 0 sampai dengan nomor yang input  7 hasil = 12\n",
    "\n",
    "\n",
    "# buat lah program dimana user memasukan suatu angka, dan program akan megenerate angka random antara 0 sampai 10, \n",
    "# jika angka yang di masukan user tidak sama makan user akan di minta mekasukan angka baru,\n",
    "# jika angka sama maka akan menampilkan \"tebakan kamu benar\" dan keluar dari program"
   ]
  },
  {
   "cell_type": "code",
   "execution_count": 3,
   "metadata": {},
   "outputs": [
    {
     "name": "stdout",
     "output_type": "stream",
     "text": [
      "20\n"
     ]
    }
   ],
   "source": [
    "# masukan nomor program akan menambahkan semua bilangan genap diantra 0 sampai dengan nomor yang input  7 hasil = 12\n",
    "\n",
    "number = 0\n",
    "totalEven = 0\n",
    "while number < 10:\n",
    "    if number %2 == 0:\n",
    "        totalEven +=number\n",
    "    number +=1\n",
    "print(totalEven)"
   ]
  },
  {
   "cell_type": "code",
   "execution_count": 7,
   "metadata": {},
   "outputs": [
    {
     "name": "stdout",
     "output_type": "stream",
     "text": [
      "5\n",
      "masukan angka dari 1 sampai 101\n",
      "1\n",
      "masukan angka dari 1 sampai 103\n",
      "9\n",
      "masukan angka dari 1 sampai 104\n",
      "5\n",
      "masukan angka dari 1 sampai 102\n",
      "8\n",
      "masukan angka dari 1 sampai 108\n",
      "yeay anda benar\n"
     ]
    }
   ],
   "source": [
    "# buat lah program dimana user memasukan suatu angka, dan program akan megenerate angka random antara 0 sampai 10, \n",
    "# jika angka yang di masukan user tidak sama makan user akan di minta mekasukan angka baru,\n",
    "# jika angka sama maka akan menampilkan \"tebakan kamu benar\" dan keluar dari program\n",
    "import random\n",
    "\n",
    "isUserCorrect = False\n",
    "randomNumber = random.randint(1, 10)\n",
    "while not isUserCorrect : \n",
    "    print(randomNumber)\n",
    "    nilaiStr = input(\"masukan angka dari 1 sampai 10\")\n",
    "    if not nilaiStr.isnumeric(): break;\n",
    "    isUserCorrect = int(nilaiStr) == randomNumber\n",
    "else:\n",
    "    print(\"yeay anda benar\")"
   ]
  },
  {
   "cell_type": "code",
   "execution_count": 9,
   "metadata": {},
   "outputs": [
    {
     "name": "stdout",
     "output_type": "stream",
     "text": [
      "0,0 0,1 0,2 \n",
      "1,0 1,1 1,2 \n",
      "2,0 2,1 2,2 \n",
      "\n"
     ]
    }
   ],
   "source": [
    "# 1 2 3\n",
    "# 1 2 3 \n",
    "# 1 2 3\n",
    "\n",
    "row = 3\n",
    "col = 3\n",
    "i = 0\n",
    "disp = \"\"\n",
    "while i < row:\n",
    "    j = 0\n",
    "    while j < col:\n",
    "        disp = disp + str(i) + \",\" + str(j) + \" \"\n",
    "        j+=1\n",
    "    disp += \"\\n\"\n",
    "    i+=1\n",
    "print(disp)\n"
   ]
  },
  {
   "cell_type": "code",
   "execution_count": 12,
   "metadata": {},
   "outputs": [
    {
     "name": "stdout",
     "output_type": "stream",
     "text": [
      "*\n",
      "*\n",
      "*\n",
      "*\n",
      "*\n",
      "\n"
     ]
    }
   ],
   "source": [
    "# *\n",
    "# **\n",
    "# ***\n",
    "# ****\n",
    "# *****\n",
    "\n",
    "row = 5\n",
    "i = 0\n",
    "disp = \"\"\n",
    "j = 0\n",
    "while i < row:\n",
    "    col = i + 1 # 1 2\n",
    "    while j < col:# benar\n",
    "        disp += \"*\" #display\n",
    "        j += 1 # 1 2  \n",
    "    disp += \"\\n\" #*\\n  *\\n\n",
    "    i= col # 1\n",
    "print(disp)\n"
   ]
  },
  {
   "cell_type": "code",
   "execution_count": 13,
   "metadata": {},
   "outputs": [
    {
     "name": "stdout",
     "output_type": "stream",
     "text": [
      "*\n",
      "**\n",
      "***\n",
      "****\n",
      "*****\n",
      "\n"
     ]
    }
   ],
   "source": [
    "row = 5\n",
    "i = 0\n",
    "disp = \"\"\n",
    "while i < row:\n",
    "    col = i + 1 # 1 2\n",
    "    j = 0\n",
    "    while j < col:# benar\n",
    "        disp += \"*\" #display\n",
    "        j += 1 # 1   2\n",
    "    disp += \"\\n\" #*\\n  **\\n\n",
    "    i= col # 1\n",
    "print(disp)"
   ]
  },
  {
   "cell_type": "code",
   "execution_count": 18,
   "metadata": {},
   "outputs": [
    {
     "name": "stdout",
     "output_type": "stream",
     "text": [
      "makan\n",
      "nonton\n"
     ]
    }
   ],
   "source": [
    "# range loop\n",
    "myHobbies = [\"makan\", \"nonton\"]\n",
    "\n",
    "for hobby in myHobbies:\n",
    "    print(hobby)"
   ]
  },
  {
   "cell_type": "code",
   "execution_count": 19,
   "metadata": {},
   "outputs": [
    {
     "name": "stdout",
     "output_type": "stream",
     "text": [
      "==== 0\n",
      "==== 1\n",
      "==== 2\n",
      "==== 3\n",
      "==== 4\n"
     ]
    }
   ],
   "source": [
    "for i in range(5):\n",
    "    print(\"====\", i)"
   ]
  },
  {
   "cell_type": "code",
   "execution_count": 27,
   "metadata": {},
   "outputs": [
    {
     "name": "stdout",
     "output_type": "stream",
     "text": [
      "nama hepiska\n",
      "=============\n",
      "nama hepiska\n",
      "pekerjaan coder\n"
     ]
    }
   ],
   "source": [
    "myDict = {'nama': \"hepiska\", \"umur\": 29, \"pekerjaan\": \"coder\"}\n",
    "\n",
    "for key in myDict:\n",
    "    if(key == \"umur\"): break;\n",
    "    print(key, myDict[key])\n",
    "print(\"=============\")\n",
    "for key in myDict:\n",
    "    if(key == \"umur\"): continue;\n",
    "    print(key, myDict[key])"
   ]
  },
  {
   "cell_type": "code",
   "execution_count": 42,
   "metadata": {},
   "outputs": [
    {
     "name": "stdout",
     "output_type": "stream",
     "text": [
      "{'hobbies': [], 'nama': '', 'umur': '', 'pekerjaan': ''}\n",
      "userInput1 \n",
      "masukan hobbies jika sudah masukan stopmakan\n",
      "userInput2 makan\n",
      "{'hobbies': ['makan'], 'nama': '', 'umur': '', 'pekerjaan': ''}\n",
      "userInput1 makan\n",
      "masukan hobbies jika sudah masukan stopstop\n",
      "userInput2 stop\n",
      "masukan nama jika sudah masukanego\n",
      "masukan umur jika sudah masukan29\n",
      "masukan pekerjaan jika sudah masukancoder\n",
      "{'hobbies': ['makan', 'stop'], 'nama': 'ego', 'umur': '29', 'pekerjaan': 'coder'}\n"
     ]
    }
   ],
   "source": [
    "myDict = {\"hobbies\":[],'nama': \"\", \"umur\": \"\", \"pekerjaan\": \"\"}\n",
    "\n",
    "# masukan nama : \n",
    "# masukan umur: \n",
    "# masukan pekerjaan:\n",
    "# masukan hobiess: \n",
    "\n",
    "# {'nama': \"ego\", \"umur\": \"29\", \"pekerjaan\": \"coder\", hobbies: [\"makan\", \"tidur\",\"nonton\"]}\n",
    "\n",
    "for key in myDict:\n",
    "    if(key == \"hobbies\"):\n",
    "            userInput = \"\"\n",
    "            while userInput != \"stop\":\n",
    "                userInput = input(\"masukan {} jika sudah masukan stop\".format(key))\n",
    "                myDict[key].append(userInput)\n",
    "    else:\n",
    "        userInput = input(\"masukan {} jika sudah masukan\".format(key))\n",
    "        myDict[key] = userInput\n",
    "\n",
    "print(myDict)\n"
   ]
  },
  {
   "cell_type": "code",
   "execution_count": null,
   "metadata": {},
   "outputs": [],
   "source": []
  }
 ],
 "metadata": {
  "kernelspec": {
   "display_name": "Python 3",
   "language": "python",
   "name": "python3"
  },
  "language_info": {
   "codemirror_mode": {
    "name": "ipython",
    "version": 3
   },
   "file_extension": ".py",
   "mimetype": "text/x-python",
   "name": "python",
   "nbconvert_exporter": "python",
   "pygments_lexer": "ipython3",
   "version": "3.7.6"
  }
 },
 "nbformat": 4,
 "nbformat_minor": 4
}
