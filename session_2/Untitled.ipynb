{
 "cells": [
  {
   "cell_type": "code",
   "execution_count": 1,
   "metadata": {},
   "outputs": [
    {
     "name": "stdout",
     "output_type": "stream",
     "text": [
      "please input number1\n",
      "not eq\n",
      "False\n"
     ]
    }
   ],
   "source": [
    "# condition \n",
    "# equals a == b\n",
    "# not equals a !=b\n",
    "# more than a > b\n",
    "# lest than a < b\n",
    "# more than equals a >= b\n",
    "# less than equals a <= b\n",
    "\n",
    "b = 20\n",
    "\n",
    "a = input(\"please input number\")\n",
    "a = int(a)\n",
    "\n",
    "if a == b:\n",
    "    print(\"eq\")\n",
    "else:\n",
    "    print(\"not eq\")\n",
    "\n",
    "# integer falsy 0\n",
    "# string falsy \"\"\n",
    "# list falsy []\n",
    "# dictionary falsy {}\n",
    "\n",
    "\n",
    "\n",
    "print(bool(0))\n"
   ]
  },
  {
   "cell_type": "code",
   "execution_count": 2,
   "metadata": {},
   "outputs": [
    {
     "name": "stdout",
     "output_type": "stream",
     "text": [
      "False\n"
     ]
    }
   ],
   "source": [
    "print(bool(()))\n"
   ]
  },
  {
   "cell_type": "code",
   "execution_count": 4,
   "metadata": {},
   "outputs": [
    {
     "name": "stdout",
     "output_type": "stream",
     "text": [
      "please input number10\n",
      "you are under age lets wait 8 more years \n",
      "di luar scoupe if\n"
     ]
    }
   ],
   "source": [
    "myage= 0\n",
    "adultTreshold = 18\n",
    "\n",
    "myage = input(\"please input number\")\n",
    "myage = int(myage)\n",
    "\n",
    "if myage >= adultTreshold:\n",
    "    print(\"you are adult\")\n",
    "    print(\"lets drink\")\n",
    "else:\n",
    "    yearsToaduld = adultTreshold - myage\n",
    "    print(\"you are under age lets wait {} more years \".format(yearsToaduld))\n",
    "\n",
    "print(\"di luar scoupe if\")"
   ]
  },
  {
   "cell_type": "code",
   "execution_count": 9,
   "metadata": {},
   "outputs": [
    {
     "name": "stdout",
     "output_type": "stream",
     "text": [
      "masukan nilai10\n",
      "E\n",
      "done\n"
     ]
    }
   ],
   "source": [
    "# user input nilai dalam angka jika input > 90 maka nilai huruf A,\n",
    "# jika nilai =< 90 dan >70 maka nilai huruf B, \n",
    "# jika nilai <=70 dan > 50 maka c,\n",
    "# jika nilai < 50 dan lebih besar dari 30 maka D, \n",
    "# selain itu E\n",
    "\n",
    "nilai = int(input(\"masukan nilai\"))\n",
    "\n",
    "if nilai > 90 :\n",
    "    print(\"A\")\n",
    "elif nilai <= 90 and nilai > 70:\n",
    "    print(\"B\")\n",
    "else:\n",
    "    print(\"E\")\n",
    "print(\"done\")"
   ]
  },
  {
   "cell_type": "code",
   "execution_count": 27,
   "metadata": {},
   "outputs": [
    {
     "ename": "TypeError",
     "evalue": "'float' object is not callable",
     "output_type": "error",
     "traceback": [
      "\u001b[0;31m---------------------------------------------------------------------------\u001b[0m",
      "\u001b[0;31mTypeError\u001b[0m                                 Traceback (most recent call last)",
      "\u001b[0;32m<ipython-input-27-9d0560f5827a>\u001b[0m in \u001b[0;36m<module>\u001b[0;34m\u001b[0m\n\u001b[0;32m----> 1\u001b[0;31m \u001b[0mmyage\u001b[0m \u001b[0;34m=\u001b[0m \u001b[0minput\u001b[0m\u001b[0;34m(\u001b[0m\u001b[0;34m\"please input number\"\u001b[0m\u001b[0;34m)\u001b[0m\u001b[0;34m\u001b[0m\u001b[0;34m\u001b[0m\u001b[0m\n\u001b[0m",
      "\u001b[0;31mTypeError\u001b[0m: 'float' object is not callable"
     ]
    }
   ],
   "source": [
    "myage = input(\"please input number\")\n"
   ]
  },
  {
   "cell_type": "code",
   "execution_count": 11,
   "metadata": {},
   "outputs": [
    {
     "name": "stdout",
     "output_type": "stream",
     "text": [
      "pintar nih\n",
      "mantap\n"
     ]
    }
   ],
   "source": [
    "nilai = 71\n",
    "\n",
    "if nilai > 70: print(\"pintar nih\");print(\"mantap\");"
   ]
  },
  {
   "cell_type": "code",
   "execution_count": 15,
   "metadata": {},
   "outputs": [
    {
     "name": "stdout",
     "output_type": "stream",
     "text": [
      "salah\n"
     ]
    }
   ],
   "source": [
    "# integer falsy 0\n",
    "# string falsy \"\"\n",
    "# list falsy []\n",
    "# dictionary falsy {}\n",
    "\n",
    "if {}: \n",
    "    print(\"benar\")\n",
    "else:\n",
    "    print(\"salah\")"
   ]
  },
  {
   "cell_type": "code",
   "execution_count": 19,
   "metadata": {},
   "outputs": [
    {
     "name": "stdout",
     "output_type": "stream",
     "text": [
      "perulangan ke 0\n",
      "perulangan ke 1\n",
      "perulangan ke 2\n",
      "perulangan ke 3\n",
      "perulangan ke 4\n",
      "perulangan ke 5\n",
      "perulangan ke 6\n",
      "perulangan ke 7\n",
      "perulangan ke 8\n",
      "perulangan ke 9\n",
      "perulangan ke 10\n"
     ]
    }
   ],
   "source": [
    "# perulangan \n",
    "# while\n",
    "# for\n",
    "\n",
    "\n",
    "i = 0 \n",
    "while i <= 10:\n",
    "    print(\"perulangan ke\", i)\n",
    "    i = i + 1\n"
   ]
  },
  {
   "cell_type": "code",
   "execution_count": 26,
   "metadata": {},
   "outputs": [
    {
     "ename": "TypeError",
     "evalue": "'str' object is not callable",
     "output_type": "error",
     "traceback": [
      "\u001b[0;31m---------------------------------------------------------------------------\u001b[0m",
      "\u001b[0;31mTypeError\u001b[0m                                 Traceback (most recent call last)",
      "\u001b[0;32m<ipython-input-26-55b43fdcaabe>\u001b[0m in \u001b[0;36m<module>\u001b[0;34m\u001b[0m\n\u001b[1;32m      1\u001b[0m \u001b[0mnilaiStr\u001b[0m \u001b[0;34m=\u001b[0m \u001b[0;34m\"\"\u001b[0m\u001b[0;34m\u001b[0m\u001b[0;34m\u001b[0m\u001b[0m\n\u001b[1;32m      2\u001b[0m \u001b[0;32mwhile\u001b[0m \u001b[0mnilaiStr\u001b[0m \u001b[0;34m!=\u001b[0m \u001b[0;34m\"exit\"\u001b[0m\u001b[0;34m:\u001b[0m\u001b[0;34m\u001b[0m\u001b[0;34m\u001b[0m\u001b[0m\n\u001b[0;32m----> 3\u001b[0;31m     \u001b[0mnilaiStr\u001b[0m \u001b[0;34m=\u001b[0m \u001b[0minput\u001b[0m\u001b[0;34m(\u001b[0m\u001b[0;34m\"masukan nilai\"\u001b[0m\u001b[0;34m)\u001b[0m\u001b[0;34m\u001b[0m\u001b[0;34m\u001b[0m\u001b[0m\n\u001b[0m\u001b[1;32m      4\u001b[0m     \u001b[0mnilai\u001b[0m \u001b[0;34m=\u001b[0m \u001b[0mint\u001b[0m\u001b[0;34m(\u001b[0m\u001b[0mnilaiStr\u001b[0m\u001b[0;34m)\u001b[0m\u001b[0;34m\u001b[0m\u001b[0;34m\u001b[0m\u001b[0m\n\u001b[1;32m      5\u001b[0m     \u001b[0;32mif\u001b[0m \u001b[0mnilai\u001b[0m \u001b[0;34m>\u001b[0m \u001b[0;36m90\u001b[0m \u001b[0;34m:\u001b[0m\u001b[0;34m\u001b[0m\u001b[0;34m\u001b[0m\u001b[0m\n",
      "\u001b[0;31mTypeError\u001b[0m: 'str' object is not callable"
     ]
    }
   ],
   "source": [
    "nilaiStr = \"\"\n",
    "while nilaiStr != \"exit\":\n",
    "    nilaiStr = input(\"masukan nilai\")\n",
    "#     nilai = int(nilaiStr)\n",
    "#     if nilai > 90 :\n",
    "#         print(\"A\")\n",
    "#     elif nilai <= 90 and nilai > 70:\n",
    "#         print(\"B\")\n",
    "#     else:\n",
    "#         print(\"E\")\n",
    "\n",
    "print(\"selesai terima kasih\")"
   ]
  },
  {
   "cell_type": "code",
   "execution_count": null,
   "metadata": {},
   "outputs": [],
   "source": []
  }
 ],
 "metadata": {
  "kernelspec": {
   "display_name": "Python 3",
   "language": "python",
   "name": "python3"
  },
  "language_info": {
   "codemirror_mode": {
    "name": "ipython",
    "version": 3
   },
   "file_extension": ".py",
   "mimetype": "text/x-python",
   "name": "python",
   "nbconvert_exporter": "python",
   "pygments_lexer": "ipython3",
   "version": "3.7.6"
  }
 },
 "nbformat": 4,
 "nbformat_minor": 4
}
