{
 "cells": [
  {
   "cell_type": "code",
   "execution_count": 2,
   "metadata": {},
   "outputs": [
    {
     "data": {
      "text/plain": [
       "'*\\n**\\n***\\n****\\n*****\\n******\\n*******\\n'"
      ]
     },
     "execution_count": 2,
     "metadata": {},
     "output_type": "execute_result"
    }
   ],
   "source": [
    "def starStair(step):\n",
    "    row = step\n",
    "    i = 0\n",
    "    disp = \"\"\n",
    "    while i < row:\n",
    "        col = i + 1 # 1 2\n",
    "        j = 0\n",
    "        while j < col:# benar\n",
    "            disp += \"*\" #display\n",
    "            j += 1 # 1   2\n",
    "        disp += \"\\n\" #*\\n  **\\n\n",
    "        i= col # 1\n",
    "    return disp\n",
    "\n",
    "\n",
    "starStair(7)"
   ]
  },
  {
   "cell_type": "code",
   "execution_count": 3,
   "metadata": {},
   "outputs": [
    {
     "name": "stdout",
     "output_type": "stream",
     "text": [
      "*\n",
      "**\n",
      "***\n",
      "****\n",
      "*****\n",
      "******\n",
      "*******\n",
      "\n"
     ]
    }
   ],
   "source": [
    "print(starStair(7))"
   ]
  },
  {
   "cell_type": "code",
   "execution_count": 4,
   "metadata": {},
   "outputs": [],
   "source": [
    "def starStairPrint(step):\n",
    "    row = step\n",
    "    i = 0\n",
    "    disp = \"\"\n",
    "    while i < row:\n",
    "        col = i + 1 # 1 2\n",
    "        j = 0\n",
    "        while j < col:# benar\n",
    "            disp += \"*\" #display\n",
    "            j += 1 # 1   2\n",
    "        disp += \"\\n\" #*\\n  **\\n\n",
    "        i= col # 1\n",
    "    print(disp)"
   ]
  },
  {
   "cell_type": "code",
   "execution_count": 5,
   "metadata": {},
   "outputs": [
    {
     "name": "stdout",
     "output_type": "stream",
     "text": [
      "*\n",
      "**\n",
      "***\n",
      "****\n",
      "*****\n",
      "******\n",
      "*******\n",
      "\n",
      "None\n",
      "*\n",
      "**\n",
      "***\n",
      "****\n",
      "*****\n",
      "******\n",
      "*******\n",
      "\n"
     ]
    }
   ],
   "source": [
    "print(starStairPrint(7))\n",
    "print(starStair(7))"
   ]
  },
  {
   "cell_type": "code",
   "execution_count": 7,
   "metadata": {},
   "outputs": [],
   "source": [
    "def quadradNoReturn(num):\n",
    "    hasil =  num * num\n",
    "\n",
    "def quadradReturn(num):\n",
    "    hasil =  num * num\n",
    "    return hasil"
   ]
  },
  {
   "cell_type": "code",
   "execution_count": 8,
   "metadata": {},
   "outputs": [
    {
     "name": "stdout",
     "output_type": "stream",
     "text": [
      "35\n"
     ]
    }
   ],
   "source": [
    "#  f(x) = 10 * x^2\n",
    "\n",
    "hasil = 10 + quadradReturn(5)\n",
    "\n",
    "# print(hasil)"
   ]
  },
  {
   "cell_type": "code",
   "execution_count": 9,
   "metadata": {},
   "outputs": [
    {
     "ename": "TypeError",
     "evalue": "unsupported operand type(s) for +: 'int' and 'NoneType'",
     "output_type": "error",
     "traceback": [
      "\u001b[0;31m---------------------------------------------------------------------------\u001b[0m",
      "\u001b[0;31mTypeError\u001b[0m                                 Traceback (most recent call last)",
      "\u001b[0;32m<ipython-input-9-bf2cada83208>\u001b[0m in \u001b[0;36m<module>\u001b[0;34m\u001b[0m\n\u001b[0;32m----> 1\u001b[0;31m \u001b[0mhasil\u001b[0m \u001b[0;34m=\u001b[0m \u001b[0;36m10\u001b[0m \u001b[0;34m+\u001b[0m \u001b[0mquadradNoReturn\u001b[0m\u001b[0;34m(\u001b[0m\u001b[0;36m5\u001b[0m\u001b[0;34m)\u001b[0m\u001b[0;34m\u001b[0m\u001b[0;34m\u001b[0m\u001b[0m\n\u001b[0m\u001b[1;32m      2\u001b[0m \u001b[0mprint\u001b[0m\u001b[0;34m(\u001b[0m\u001b[0mhasil\u001b[0m\u001b[0;34m)\u001b[0m\u001b[0;34m\u001b[0m\u001b[0;34m\u001b[0m\u001b[0m\n",
      "\u001b[0;31mTypeError\u001b[0m: unsupported operand type(s) for +: 'int' and 'NoneType'"
     ]
    }
   ],
   "source": [
    "hasil = 10 + quadradNoReturn(5)\n",
    "print(hasil)"
   ]
  },
  {
   "cell_type": "code",
   "execution_count": 10,
   "metadata": {},
   "outputs": [],
   "source": [
    "#  f(x) = 10 * x^2\n",
    "\n",
    "def f(x):\n",
    "    return 10 + x*x"
   ]
  },
  {
   "cell_type": "code",
   "execution_count": 12,
   "metadata": {},
   "outputs": [
    {
     "name": "stdout",
     "output_type": "stream",
     "text": [
      "hello  ego\n"
     ]
    }
   ],
   "source": [
    "def printHello(nama):\n",
    "    print(\"hello \" , nama)\n",
    "    \n",
    "printHello(\"ego\")"
   ]
  },
  {
   "cell_type": "code",
   "execution_count": null,
   "metadata": {},
   "outputs": [],
   "source": [
    "printHello(\"hepiska\")"
   ]
  },
  {
   "cell_type": "code",
   "execution_count": 21,
   "metadata": {},
   "outputs": [
    {
     "name": "stdout",
     "output_type": "stream",
     "text": [
      "please input numbera\n"
     ]
    }
   ],
   "source": [
    "def canIdrink(age):\n",
    "    if not age.isnumeric():\n",
    "        return \n",
    "    \n",
    "    myage = int(age)\n",
    "    if myage >= adultTreshold:\n",
    "        return \"you are adult \\n lets drink\"\n",
    "    else:\n",
    "        yearsToaduld = adultTreshold - myage\n",
    "        return \"you are under age lets wait {} more years \".format(yearsToaduld)\n",
    "\n",
    "\n",
    "myage= 0\n",
    "adultTreshold = 18\n",
    "\n",
    "myage = input(\"please input number\")\n",
    "canIdrink(myage)\n",
    "# print(\"di luar scoupe if\")"
   ]
  },
  {
   "cell_type": "code",
   "execution_count": 22,
   "metadata": {},
   "outputs": [
    {
     "data": {
      "text/plain": [
       "<function str.isnumeric()>"
      ]
     },
     "execution_count": 22,
     "metadata": {},
     "output_type": "execute_result"
    }
   ],
   "source": [
    "a=\"asa\"\n",
    "a.isnumeric"
   ]
  },
  {
   "cell_type": "code",
   "execution_count": 28,
   "metadata": {},
   "outputs": [],
   "source": [
    "def printHello(hobby, nama =\"ego\"):\n",
    "    print(\"hello nama saya \" , nama)\n",
    "    print(\"Hobby saya \" , hobby)"
   ]
  },
  {
   "cell_type": "code",
   "execution_count": 30,
   "metadata": {},
   "outputs": [
    {
     "name": "stdout",
     "output_type": "stream",
     "text": [
      "hello nama saya  bambang\n",
      "Hobby saya  makan\n"
     ]
    }
   ],
   "source": [
    "printHello(\"makan\", \"bambang\")"
   ]
  },
  {
   "cell_type": "code",
   "execution_count": 25,
   "metadata": {},
   "outputs": [
    {
     "name": "stdout",
     "output_type": "stream",
     "text": [
      "hello nama saya  coding\n",
      "Hobby saya  ego\n"
     ]
    }
   ],
   "source": [
    "printHello(hobby = \"ego\", nama = \"coding\")"
   ]
  },
  {
   "cell_type": "code",
   "execution_count": 34,
   "metadata": {},
   "outputs": [],
   "source": [
    "def tambah(a, b , *res):\n",
    "    hasil = a + b\n",
    "    for i in res:\n",
    "        hasil +=i\n",
    "    return hasil"
   ]
  },
  {
   "cell_type": "code",
   "execution_count": 35,
   "metadata": {},
   "outputs": [
    {
     "data": {
      "text/plain": [
       "8"
      ]
     },
     "execution_count": 35,
     "metadata": {},
     "output_type": "execute_result"
    }
   ],
   "source": [
    "tambah(1,3,4)\n"
   ]
  },
  {
   "cell_type": "code",
   "execution_count": 36,
   "metadata": {},
   "outputs": [
    {
     "data": {
      "text/plain": [
       "48"
      ]
     },
     "execution_count": 36,
     "metadata": {},
     "output_type": "execute_result"
    }
   ],
   "source": [
    "tambah(1,3,4,6,7,8,9,10)\n"
   ]
  },
  {
   "cell_type": "code",
   "execution_count": 37,
   "metadata": {},
   "outputs": [
    {
     "name": "stdout",
     "output_type": "stream",
     "text": [
      "35\n"
     ]
    }
   ],
   "source": [
    "def tambah(a, b , *res):\n",
    "    hasil = a + b\n",
    "    for i in res:\n",
    "        hasil +=i\n",
    "    return hasil\n",
    "\n",
    "print(hasil)"
   ]
  },
  {
   "cell_type": "code",
   "execution_count": null,
   "metadata": {},
   "outputs": [],
   "source": []
  }
 ],
 "metadata": {
  "kernelspec": {
   "display_name": "Python 3",
   "language": "python",
   "name": "python3"
  },
  "language_info": {
   "codemirror_mode": {
    "name": "ipython",
    "version": 3
   },
   "file_extension": ".py",
   "mimetype": "text/x-python",
   "name": "python",
   "nbconvert_exporter": "python",
   "pygments_lexer": "ipython3",
   "version": "3.7.6"
  }
 },
 "nbformat": 4,
 "nbformat_minor": 4
}
