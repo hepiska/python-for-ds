{
 "cells": [
  {
   "cell_type": "code",
   "execution_count": 2,
   "metadata": {},
   "outputs": [],
   "source": [
    "def add(*args):\n",
    "    res = 0\n",
    "    for arg in args:\n",
    "        res += arg\n",
    "    return res\n",
    "\n",
    "def multiply(*args):\n",
    "    res = 1\n",
    "    for arg in args:\n",
    "        res = res * arg\n",
    "    return res\n",
    "\n",
    "def devide(*args):\n",
    "    [res, *sisa] = args\n",
    "    for arg in sisa:\n",
    "        res = res / arg\n",
    "    return res"
   ]
  },
  {
   "cell_type": "code",
   "execution_count": null,
   "metadata": {},
   "outputs": [],
   "source": []
  }
 ],
 "metadata": {
  "kernelspec": {
   "display_name": "Python 3",
   "language": "python",
   "name": "python3"
  },
  "language_info": {
   "codemirror_mode": {
    "name": "ipython",
    "version": 3
   },
   "file_extension": ".py",
   "mimetype": "text/x-python",
   "name": "python",
   "nbconvert_exporter": "python",
   "pygments_lexer": "ipython3",
   "version": "3.7.6"
  }
 },
 "nbformat": 4,
 "nbformat_minor": 4
}
